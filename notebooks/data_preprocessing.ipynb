{
 "cells": [
  {
   "cell_type": "markdown",
   "metadata": {},
   "source": [
    "<div style=\"background-color: #4CAF50; color: white; padding: 15px; border-radius: 8px; text-align: center; font-family: Arial, sans-serif;\">\n",
    "  <h2>Malaria Detection</h2>\n",
    "</div>\n",
    "\n",
    "<div style=\"text-align: center; color: #A5D6A7; font-size: 18px; margin-top: 10px;\">\n",
    "  <h4>Data Preprocessing</h4>\n",
    "</div>\n",
    "\n",
    "<div style=\"background-color: #1E1E1E; color: #FFFFFF; padding: 20px; border-radius: 8px; font-family: Arial, sans-serif; line-height: 1.6;\">\n",
    "  <h4 style=\"text-align: left; color: #81C784;\">Problem Understanding</h4>\n",
    "  <p><strong>Objective:</strong> Detect malaria by classifying cell images as <em>infected</em> or <em>uninfected</em>.</p>\n",
    "  <ul>\n",
    "    <li><strong>Data:</strong> Use a publicly available dataset such as the <strong>Malaria Cell Images Dataset</strong>.</li>\n",
    "    <li>Dataset provided by the <strong><a href=\" https://ceb.nlm.nih.gov/repositories/malaria-datasets/\">National Institute of Health (NIH)</a></strong>.</li>\n",
    "  </ul>\n",
    "</div>\n"
   ]
  },
  {
   "cell_type": "markdown",
   "metadata": {},
   "source": [
    "<div style=\"background-color: #1E1E1E; color: #FFFFFF; padding: 20px; border-radius: 8px; font-size: 16px; line-height: 1.6;\">\n",
    "  <h3 style=\"color: #4CAF50; font-family: Arial, sans-serif;\">Data Preparation: Malaria Images Dataset</h3>\n",
    "  \n",
    "  <h4 style=\"color: #A5D6A7;\">Step 1: Collect Data</h4>\n",
    "  <p>\n",
    "    The Malaria Images Dataset is publicly available on Kaggle for faster access. It is widely used for training machine learning models to detect malaria in cell images.\n",
    "    The dataset is structured into two primary folders:\n",
    "  </p>\n",
    "  <ul style=\"margin-left: 20px;\">\n",
    "    <li><strong>Parasitized</strong>: Contains images of infected cells.</li>\n",
    "    <li><strong>Uninfected</strong>: Contains images of healthy cells.</li>\n",
    "  </ul>\n",
    "  \n",
    "  <h4 style=\"color: #A5D6A7;\">Why Kaggle?</h4>\n",
    "  <p>\n",
    "    While the dataset is originally hosted by the National Institute of Health (NIH), downloading it from Kaggle offers faster speeds and easier access.\n",
    "  </p>\n",
    "  \n",
    "  <p>We will:</p>\n",
    "  <ul style=\"margin-left: 20px;\">\n",
    "    <li>Download the dataset directly from Kaggle using the <code>!kaggle datasets download</code> command.</li>\n",
    "    <li>Organize the dataset into a working directory for preprocessing.</li>\n",
    "    <li>Understand the dataset structure and preview the images before further steps.</li>\n",
    "  </ul>\n",
    "</div>\n",
    "\n"
   ]
  },
  {
   "cell_type": "code",
   "execution_count": 2,
   "metadata": {},
   "outputs": [],
   "source": [
    "# Uncomment below line and run the cell\n",
    "#%pip install kaggle"
   ]
  },
  {
   "cell_type": "code",
   "execution_count": 1,
   "metadata": {},
   "outputs": [
    {
     "name": "stdout",
     "output_type": "stream",
     "text": [
      "Downloading the dataset from Kaggle...\n",
      "Dataset URL: https://www.kaggle.com/datasets/iarunava/cell-images-for-detecting-malaria\n",
      "License(s): unknown\n",
      "Downloading cell-images-for-detecting-malaria.zip to ../data\n",
      "... resuming from 498073600 bytes (210098990 bytes left) ...\n",
      "100%|█████████████████████████████████████████| 675M/675M [05:58<00:00, 581kB/s]\n",
      "100%|█████████████████████████████████████████| 675M/675M [05:58<00:00, 585kB/s]\n"
     ]
    }
   ],
   "source": [
    "# Download the dataset from Kaggle\n",
    "print(\"Downloading the dataset from Kaggle...\")\n",
    "\n",
    "!kaggle datasets download -d iarunava/cell-images-for-detecting-malaria -p '../data'"
   ]
  },
  {
   "cell_type": "markdown",
   "metadata": {},
   "source": []
  }
 ],
 "metadata": {
  "kernelspec": {
   "display_name": ".venv",
   "language": "python",
   "name": "python3"
  },
  "language_info": {
   "codemirror_mode": {
    "name": "ipython",
    "version": 3
   },
   "file_extension": ".py",
   "mimetype": "text/x-python",
   "name": "python",
   "nbconvert_exporter": "python",
   "pygments_lexer": "ipython3",
   "version": "3.11.6"
  }
 },
 "nbformat": 4,
 "nbformat_minor": 2
}
